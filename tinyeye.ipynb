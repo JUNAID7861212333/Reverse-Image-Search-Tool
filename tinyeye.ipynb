{
 "cells": [
  {
   "cell_type": "code",
   "execution_count": null,
   "metadata": {},
   "outputs": [],
   "source": [
    "from selenium import webdriver\n",
    "from selenium.webdriver.chrome.service import Service\n",
    "from selenium.webdriver.common.by import By\n",
    "from selenium.webdriver.support.ui import WebDriverWait\n",
    "from selenium.webdriver.support import expected_conditions as EC\n",
    "import time\n",
    "\n",
    "def upload_image_and_search(image_path):\n",
    "    # Specify the path to the ChromeDriver executable\n",
    "    chrome_driver_path = \"E:/movies/archive (4)/DeepFake00/DeepFake00/chromedriver-win64/chromedriver-win64/chromedriver.exe\"\n",
    "    service = Service(executable_path=chrome_driver_path)\n",
    "    \n",
    "    # Initialize the Chrome WebDriver with the specified path\n",
    "    options = webdriver.ChromeOptions()\n",
    "    driver = webdriver.Chrome(service=service, options=options)\n",
    "\n",
    "    try:\n",
    "        # Open TinEye\n",
    "        driver.get('https://tineye.com/')\n",
    "\n",
    "        # Find the file input element\n",
    "        file_input = WebDriverWait(driver, 10).until(\n",
    "            EC.presence_of_element_located((By.ID, 'upload_box'))\n",
    "        )\n",
    "\n",
    "        # Upload the image\n",
    "        file_input.send_keys(image_path)\n",
    "\n",
    "        # Wait for the search results to load\n",
    "        time.sleep(5)  # Adjust the sleep time as necessary for your internet speed\n",
    "\n",
    "        # Get the search results\n",
    "        results = driver.find_elements(By.CSS_SELECTOR, '.match')\n",
    "\n",
    "        # Print out the URLs of the images found\n",
    "        print(\"Search Results:\")\n",
    "        for idx, result in enumerate(results[:10], 1):  # Limit to first 10 results for brevity\n",
    "            try:\n",
    "                result_url = result.find_element(By.CSS_SELECTOR, 'a').get_attribute('href')\n",
    "                print(f\"{idx}. {result_url}\")\n",
    "            except Exception as e:\n",
    "                print(f\"Error retrieving result {idx}: {e}\")\n",
    "\n",
    "    finally:\n",
    "        driver.quit()\n",
    "\n",
    "if _name_ == \"_main_\":\n",
    "    image_path = \"C:/Users/ST/Downloads/download1111.jpg\"\n",
    "    \n",
    "    upload_image_and_search(image_path)"
   ]
  }
 ],
 "metadata": {
  "kernelspec": {
   "display_name": "base",
   "language": "python",
   "name": "python3"
  },
  "language_info": {
   "codemirror_mode": {
    "name": "ipython",
    "version": 3
   },
   "file_extension": ".py",
   "mimetype": "text/x-python",
   "name": "python",
   "nbconvert_exporter": "python",
   "pygments_lexer": "ipython3",
   "version": "3.9.13"
  }
 },
 "nbformat": 4,
 "nbformat_minor": 2
}
